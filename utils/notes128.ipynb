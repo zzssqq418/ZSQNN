{
 "cells": [
  {
   "cell_type": "code",
   "execution_count": null,
   "metadata": {
    "collapsed": true
   },
   "outputs": [],
   "source": [
    "import matplotlib as mpl\n",
    "import matplotlib.pyplot as plt\n",
    "%matplotlib inline\n",
    "import numpy as np\n",
    "import sklearn\n",
    "import pandas as pd\n",
    "import os\n",
    "import sys\n",
    "import time\n",
    "import tensorflow as tf\n",
    "\n",
    "from tensorflow import keras\n",
    "print(tf.__version__)\n",
    "print(sys.version_info)\n",
    "for module in mpl,np,pd,sklearn,tf,keras:\n",
    "    print(module.__name__,module.__version__)\n",
    "\n",
    "fashion_mnist=keras.dataset.fashion_mnist\n",
    "(x_train_all,y_train_all),(x_test,y_test)=fashion_mnist.load_data\n",
    "x_valid,x_train=x_train_all[:5000],x_train_all[5000:]\n",
    "y_valid,y_train=y_train_all[:5000],y_train_all[5000:]\n",
    "print(x_valid.shape,y_valid.shape)\n",
    "\n",
    "\n",
    "from sklearn.datasets import fetch_california_housing\n",
    "\n",
    "housing=fetch_california_housing()\n",
    "print()\n",
    "print()\n",
    "\n",
    "import pprint\n",
    "pprint.pprint(housing.data[0:5])\n",
    "pprint.pprint(housing.data[0:5])\n",
    "\n",
    "from sklearn.model_selection import train_test_split\n",
    "\n",
    "x_train_all,x_test,y_train_all,y_test=train_test_split(\n",
    "    housing.data,housing.target,random_state=7)\n",
    "x_train,x_valid,y_train,y_valid=train_test_split(\n",
    "    x_train_all,y_train_all,random_state=11)\n",
    "print(x_train.shape,y_train.shape)\n",
    "print(x_valid.shape,y_valid.shape)\n",
    "print(x_test.shape,y_test.shape)\n",
    "from sklearn.preprocessing import StandardScaler\n",
    "\n",
    "scaler=StandardScaler()\n",
    "x_train_scaled=scaler.fit_transform(x_train)\n",
    "x_valid_scaled=scalar.transform(x_valid)\n",
    "x_test_scaled=scaler.transform(x_test)\n",
    "\n",
    "\n",
    "\n",
    "\n",
    "from sklearn.preprocessing import StandardScaler\n",
    "\n",
    "scaler=StandardScaler()\n",
    "x_train_scaled=scaler.fit_transform(\n",
    "    x_train.astype(np.float32).reshape(-1,1)).reshape(-1,28,28)\n",
    "x_valid_scaled=scaler.fit_transform(\n",
    "    x_valid.astype(np.float32).reshape(-1,1)).reshape(-1,28,28)\n",
    "x_test_scaled=scaler.fit_transform(\n",
    "    x_test.astype(np.float32).reshape(-1,1)).reshape(-1,28,28)\n",
    "\n",
    "\n",
    "\n",
    "def show_imgs(n_rows,n_cols,x_data,y_data. class_names):\n",
    "    assert len(x_data)==len(y_data)\n",
    "    assert n_rows*n_cols < len(x_data)\n",
    "    plt.figure(figsize=(n_cols*1.4,n_rows*1.6))\n",
    "    for row in range(n_rows):\n",
    "        for col in range(n_cols):\n",
    "            index=n_cols*row+col\n",
    "            plt.subplot(n_rows, n_cols,index+1)\n",
    "            plt.imshow(x_data[index],cmap='binary',\n",
    "                       interpolation='nearest')\n",
    "            plt.axis('off')\n",
    "            plt.title(class_name(y_data[index]))\n",
    "        plt.show()\n",
    "        class_names=['T-shirt','Trousers']\n",
    "            \n",
    "            \n",
    "            \n",
    "            \n",
    "            \n",
    "            "
   ]
  },
  {
   "cell_type": "code",
   "execution_count": null,
   "outputs": [],
   "source": [
    "#tf.keras.models.Sequential()\n",
    "model=keras.models.Sequential()\n",
    "model.add(keras.layers.Flatten(input_shape=[28,28]))\n",
    "model.add(keras.layers.Dense(300,activation='relu'))\n",
    "model.add(keras.layers.Dense(100,activation='relu'))\n",
    "model.add(keras.layers.Dense(10,activation='softmax'))\n",
    "model.compile(loss='sparse_categorical_crossentropy',\n",
    "              optimizer='sgd',\n",
    "              metrics=['accuracy'])\n"
   ],
   "metadata": {
    "collapsed": false,
    "pycharm": {
     "name": "#%% \n"
    }
   }
  },
  {
   "cell_type": "code",
   "execution_count": null,
   "outputs": [],
   "source": [
    "#model.summary()\n",
    "history=model.fit(x_train,y_train,epoch=10,validation_data=(x_valid,y_valid))#开始训练\n",
    "\n"
   ],
   "metadata": {
    "collapsed": false,
    "pycharm": {
     "name": "#%%\n"
    }
   }
  },
  {
   "cell_type": "code",
   "execution_count": null,
   "outputs": [],
   "source": [
    "#画学习曲线的 各种颜色的loss \n",
    "def plot_learning_curves(history):\n",
    "    pd.DataFrame(history.history).plot(figsize=(8,5))\n",
    "    plt.grid(True)\n",
    "    plt.gca().set_ylim(0,1)\n",
    "    plt.show()\n",
    "plot_learning_curves(history)\n",
    "#批归一化缓解梯度消失"
   ],
   "metadata": {
    "collapsed": false,
    "pycharm": {
     "name": "#%%\n"
    }
   }
  },
  {
   "cell_type": "code",
   "execution_count": null,
   "outputs": [],
   "source": [
    "model=keras.models.Sequential()\n",
    "model.add(keras.layers.Flatten())\n",
    "#selu第一个epoch结束时已经达到挺好水平了"
   ],
   "metadata": {
    "collapsed": false,
    "pycharm": {
     "name": "#%%\n"
    }
   }
  },
  {
   "cell_type": "code",
   "execution_count": null,
   "outputs": [],
   "source": [
    "#函数API或功能API\n",
    "input=keras.layers.Input(shape=x_train.shape[1:])\n",
    "hidden1=keras.layers.Dense(30,activation='relu')(input)\n",
    "hidden2=keras.layers.Dense(30,activation='relu')(hidden1)\n",
    "#复合函数\n",
    "concat=keras.layers.concatenate([input,hidden2])\n",
    "output=keras.layers.Dense(1)(concat)\n",
    "\n",
    "model=keras.models.Model(input=[input],\n",
    "                        output=[output])\n",
    "model.summary()"
   ],
   "metadata": {
    "collapsed": false,
    "pycharm": {
     "name": "#%%\n"
    }
   }
  },
  {
   "cell_type": "code",
   "execution_count": null,
   "outputs": [],
   "source": [
    "#用子类API完成\n",
    "class WideDeepModel(keras.models.Model):\n",
    "    def __init__(self):\n",
    "        \n",
    "    def call(self,input):\n",
    "        #完成模型的正向计算\n",
    "\n",
    "model=keras.models.Sequential([\n",
    "    WideDeepModel(),\n",
    "])\n",
    "model.build(input_shape=(None,8))\n",
    "model.summary()\n"
   ],
   "metadata": {
    "collapsed": false,
    "pycharm": {
     "name": "#%%\n"
    }
   }
  },
  {
   "cell_type": "code",
   "execution_count": null,
   "outputs": [],
   "source": [
    "#多输入,多输入和多输出类似\n",
    "input_wide=keras.layers.Input(shape=[5])\n",
    "input_deep=keras.layers.Input(shape=[6])\n",
    "hidden1=keras.layers.Dense(30,activation='relu')(input)\n",
    "hidden2=keras.layers.Dense(30,activation='relu')(hidden1)\n",
    "#复合函数\n",
    "concat=keras.layers.concatenate([input,hidden2])\n",
    "output=keras.layers.Dense(1)(concat)\n",
    "output2=keras.layers.Dense(1)(hidden2)\n",
    "model=keras.models.Model(input=[input_wide],\n",
    "                        output=[output_wide])\n",
    "model.summary()\n",
    "model.compile(loss='mean_squared_error',optimizer='sgd')\n",
    "callbacks=[keras.callbacks.EarlyStopping(\n",
    "    patience=5,min_delta=1e-2\n",
    ")]\n"
   ],
   "metadata": {
    "collapsed": false,
    "pycharm": {
     "name": "#%%\n"
    }
   }
  },
  {
   "cell_type": "code",
   "execution_count": null,
   "outputs": [],
   "source": [
    "#网格搜索 随机搜索\n",
    "#遗传算法 初始化候选参数集合-训练-得到模型指标作为生存概率\n",
    "#选择-交叉-变异-产生下一代集合\n",
    "#启发式 AutoML 使用RNN生成参数 使用强化学习来进行反馈使用模型来训练生成参数\n"
   ],
   "metadata": {
    "collapsed": false,
    "pycharm": {
     "name": "#%%\n"
    }
   }
  },
  {
   "cell_type": "code",
   "execution_count": null,
   "outputs": [],
   "source": [
    "learning_rates=[1e-4,3e-4,1e-3,3e-3,1e-2,3e-2]\n",
    "for lr in learning_rates:\n",
    "    model=keras.models.Sequential([\n",
    "        keras.layers.Dense(30,activation='relu',\n",
    "                           input_shape=x_train.shape)\n",
    "        keras.layers.Dense(1)\n",
    "    ])\n",
    "    optimizer=keras.optimizers.SGD(lr)\n",
    "    model.compile(loss='mean_squared_error')\n",
    "\n"
   ],
   "metadata": {
    "collapsed": false,
    "pycharm": {
     "name": "#%%\n"
    }
   }
  },
  {
   "cell_type": "code",
   "execution_count": null,
   "outputs": [],
   "source": [
    "#RandomizedSearchCV\n",
    "#1.转化为sklearn的model 2.定义参数集合 3.搜索参数\n",
    "def build_model(hidden_layers=1,\n",
    "                layer_size=30,\n",
    "                learning_rate=3e-3):\n",
    "    model=keras.models.Sequential()\n",
    "    model.add(keras.layers.Dense(layer_size,activation=''))"
   ],
   "metadata": {
    "collapsed": false,
    "pycharm": {
     "name": "#%%\n"
    }
   }
  },
  {
   "cell_type": "code",
   "execution_count": null,
   "outputs": [],
   "source": [
    "#RandomizedSearch\n",
    "random_search_cv.fit()\n",
    "print(random_search_cv.best_params)"
   ],
   "metadata": {
    "collapsed": false,
    "pycharm": {
     "name": "#%%\n"
    }
   }
  },
  {
   "cell_type": "code",
   "execution_count": null,
   "outputs": [],
   "source": [
    "from keras.layers import Input,Dense\n",
    "from keras.models import Model\n",
    "inputs=Input(shape=())\n"
   ],
   "metadata": {
    "collapsed": false,
    "pycharm": {
     "name": "#%%\n"
    }
   }
  },
  {
   "cell_type": "code",
   "execution_count": null,
   "outputs": [],
   "source": [
    "#tf基础API的使用\n",
    "#string array\n",
    "t=tf.constant(['咖啡','cafe'])\n",
    "print(tf.strings.length(t,unit='UTF8_CHAR'))\n",
    "r=tf.strings.unicode_decode(t,'UTF8')\n",
    "print(r)"
   ],
   "metadata": {
    "collapsed": false,
    "pycharm": {
     "name": "#%%\n"
    }
   }
  },
  {
   "cell_type": "code",
   "execution_count": null,
   "outputs": [],
   "source": [
    "#ragged tensor可以里面这样大小不一样的\n",
    "r=tf.ragged.constant([[11,12],[21,22,23],[],[41]])\n"
   ],
   "metadata": {
    "collapsed": false,
    "pycharm": {
     "name": "#%%\n"
    }
   }
  },
  {
   "cell_type": "code",
   "execution_count": null,
   "outputs": [],
   "source": [
    "r2=san lie\n",
    "print(tf.concat([r,r2],axis=0))一共七行\n",
    "print(r.to_tensor())#补0\n",
    "#sparse tensor\n",
    "s=tf.SparseTensor(indices=[[0,1],[1,0],[2,3]],\n",
    "                  values=[1.,2.,3.],\n",
    "                  dense_shape=[3,4])\n",
    "print(tf.sparse.sparse_dense_matmul(s,s4))#稀疏和密集做乘法\n"
   ],
   "metadata": {
    "collapsed": false,
    "pycharm": {
     "name": "#%%\n"
    }
   }
  },
  {
   "cell_type": "code",
   "execution_count": null,
   "outputs": [],
   "source": [
    "#assign value\n",
    "v=tf.Variable()\n",
    "v.assign(2*v)#变量的赋值\n",
    "v[0,1].assign(42)"
   ],
   "metadata": {
    "collapsed": false,
    "pycharm": {
     "name": "#%%\n"
    }
   }
  },
  {
   "cell_type": "code",
   "execution_count": null,
   "outputs": [],
   "source": [
    "def customized_mse(y_true,y_pred):\n",
    "    return tf.reduce_mean(tf.square(y_pred-y_true))"
   ],
   "metadata": {
    "collapsed": false,
    "pycharm": {
     "name": "#%%\n"
    }
   }
  },
  {
   "cell_type": "code",
   "execution_count": null,
   "outputs": [],
   "source": [
    "\n",
    "class CustomizedDenseLayer(keras.layers.Layer):\n",
    "    def __init__(self,units,activation=None,**kwargs):\n",
    "        self.units=units\n",
    "        self.activation=\n",
    "        super(CustomizedDenseLayer,self).__init__(**kwargs)\n",
    "    def build(self,input_shape):#构建所需要的参数x*w+b\n",
    "        self.kernel=\n",
    "        self.bias=\n",
    "        super(CustomizedDenseLayer)\n",
    "    def call(self,x):#完整正向计算\n",
    "        pass"
   ],
   "metadata": {
    "collapsed": false,
    "pycharm": {
     "name": "#%%\n"
    }
   }
  },
  {
   "cell_type": "code",
   "execution_count": null,
   "outputs": [],
   "source": [
    "#子类方法 lambda方法\n",
    "#keras.layers.Dense(1,activation='softplus')\n",
    "#tf.function and auto-graph\n",
    "def scaled_elu(z,scale=1.0,alpha=1.0):\n",
    "    #tf.nn.elu(z)\n",
    "    is_positive=tf.greater_equal(z,0.0)\n",
    "    return scale*tf.where(is_positive,z,alpha*tf.nn.elu(z))\n",
    "print(tf.constant(-3.))\n",
    "print(scaled_elu(tf.constant([-3.,-2.5])))\n",
    "scaled_elu_tf=tf.function(scaled_elu)"
   ],
   "metadata": {
    "collapsed": false,
    "pycharm": {
     "name": "#%%\n"
    }
   }
  },
  {
   "cell_type": "code",
   "execution_count": null,
   "outputs": [],
   "source": [
    "var=tf.Variable(0.)\n",
    "@tf.function\n",
    "def add_21():\n",
    "    return var.assign_add(21)\n",
    "    "
   ],
   "metadata": {
    "collapsed": false,
    "pycharm": {
     "name": "#%%\n"
    }
   }
  },
  {
   "cell_type": "code",
   "execution_count": null,
   "outputs": [],
   "source": [
    "@tf.function(input_signature=[tf.TensorSpec([None],tf.int32,name='x')])\n",
    "def cube(z):\n",
    "    return tf.pow(z,3)\n",
    "try:\n",
    "    print(cube(tf.constant([1.,2.,3.])))\n",
    "except ValueError as ex:\n",
    "    print(ex)\n",
    "print(cube(tf.constant([1.,2.,3.])))\n",
    "print(cube(tf.constant([1,2,3])))\n"
   ],
   "metadata": {
    "collapsed": false,
    "pycharm": {
     "name": "#%%\n"
    }
   }
  },
  {
   "cell_type": "code",
   "execution_count": null,
   "outputs": [],
   "source": [
    "cube_func_int32=cube.get_concrete_function(\n",
    "    tf.TensorSpec([5],tf.int32)\n",
    ")\n",
    "cube_func_int32.graph\n",
    "pow_op=cube_func_int32.graph.get_operations()[2]\n",
    "print(pow_op)"
   ],
   "metadata": {
    "collapsed": false,
    "pycharm": {
     "name": "#%%\n"
    }
   }
  },
  {
   "cell_type": "code",
   "execution_count": 1,
   "outputs": [
    {
     "traceback": [
      "\u001b[1;31m---------------------------------------------------------------------------\u001b[0m",
      "\u001b[1;31mNameError\u001b[0m                                 Traceback (most recent call last)",
      "\u001b[1;32m<ipython-input-1-9c152c7c5ad1>\u001b[0m in \u001b[0;36m<module>\u001b[1;34m\u001b[0m\n\u001b[1;32m----> 1\u001b[1;33m \u001b[1;32mwith\u001b[0m \u001b[0mtf\u001b[0m\u001b[1;33m.\u001b[0m\u001b[0mGradientTape\u001b[0m\u001b[1;33m(\u001b[0m\u001b[1;33m)\u001b[0m \u001b[1;32mas\u001b[0m \u001b[0mtape\u001b[0m\u001b[1;33m:\u001b[0m\u001b[1;33m\u001b[0m\u001b[1;33m\u001b[0m\u001b[0m\n\u001b[0m\u001b[0;32m      2\u001b[0m     \u001b[0mz\u001b[0m\u001b[1;33m=\u001b[0m\u001b[0mg\u001b[0m\u001b[1;33m(\u001b[0m\u001b[0mx1\u001b[0m\u001b[1;33m,\u001b[0m\u001b[0mx2\u001b[0m\u001b[1;33m)\u001b[0m\u001b[1;33m\u001b[0m\u001b[1;33m\u001b[0m\u001b[0m\n\u001b[0;32m      3\u001b[0m \u001b[0mdz_x1\u001b[0m\u001b[1;33m=\u001b[0m\u001b[0mtape\u001b[0m\u001b[1;33m.\u001b[0m\u001b[0mgradient\u001b[0m\u001b[1;33m(\u001b[0m\u001b[0mz\u001b[0m\u001b[1;33m,\u001b[0m\u001b[0mx1\u001b[0m\u001b[1;33m)\u001b[0m\u001b[1;33m\u001b[0m\u001b[1;33m\u001b[0m\u001b[0m\n\u001b[0;32m      4\u001b[0m \u001b[0mdz_x2\u001b[0m\u001b[1;33m=\u001b[0m\u001b[0mtape\u001b[0m\u001b[1;33m.\u001b[0m\u001b[0mgradient\u001b[0m\u001b[1;33m(\u001b[0m\u001b[0mz\u001b[0m\u001b[1;33m,\u001b[0m\u001b[0mx2\u001b[0m\u001b[1;33m)\u001b[0m\u001b[1;33m\u001b[0m\u001b[1;33m\u001b[0m\u001b[0m\n\u001b[0;32m      5\u001b[0m \u001b[0mprint\u001b[0m\u001b[1;33m(\u001b[0m\u001b[0mdz_x1\u001b[0m\u001b[1;33m,\u001b[0m\u001b[0mdz_x2\u001b[0m\u001b[1;33m)\u001b[0m\u001b[1;33m\u001b[0m\u001b[1;33m\u001b[0m\u001b[0m\n",
      "\u001b[1;31mNameError\u001b[0m: name 'tf' is not defined"
     ],
     "ename": "NameError",
     "evalue": "name 'tf' is not defined",
     "output_type": "error"
    }
   ],
   "source": [
    "with tf.GradientTape() as tape:\n",
    "    z=g(x1,x2)\n",
    "dz_x1=tape.gradient(z,x1)\n",
    "dz_x2=tape.gradient(z,x2)\n",
    "print(dz_x1,dz_x2)\n"
   ],
   "metadata": {
    "collapsed": false,
    "pycharm": {
     "name": "#%%\n",
     "is_executing": false
    }
   }
  },
  {
   "cell_type": "code",
   "execution_count": null,
   "outputs": [],
   "source": [
    "#1.batch遍历训练集 metric\n",
    "#1.1自动求导\n",
    "#2.epoch结束，验证集 metric"
   ],
   "metadata": {
    "collapsed": false,
    "pycharm": {
     "name": "#%%\n"
    }
   }
  }
 ],
 "metadata": {
  "language_info": {
   "codemirror_mode": {
    "name": "ipython",
    "version": 2
   },
   "file_extension": ".py",
   "mimetype": "text/x-python",
   "name": "python",
   "nbconvert_exporter": "python",
   "pygments_lexer": "ipython2",
   "version": "2.7.6"
  },
  "kernelspec": {
   "name": "python3",
   "language": "python",
   "display_name": "Python 3"
  },
  "pycharm": {
   "stem_cell": {
    "cell_type": "raw",
    "source": [],
    "metadata": {
     "collapsed": false
    }
   }
  }
 },
 "nbformat": 4,
 "nbformat_minor": 0
}