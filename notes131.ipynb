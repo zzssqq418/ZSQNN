{
 "cells": [
  {
   "cell_type": "code",
   "execution_count": null,
   "metadata": {
    "collapsed": true
   },
   "outputs": [],
   "source": [
    "#1+1/2+1/2^2+1/2^3+...+1/2^50\n",
    "import tensorflow as tf\n",
    "print(tf.__version__)#打印版本\n",
    "\n",
    "x=tf.Variable(0.)\n",
    "y=tf.Variable(1.)\n",
    "print(x)\n",
    "print(y)"
   ]
  },
  {
   "cell_type": "code",
   "execution_count": null,
   "outputs": [],
   "source": [
    "'''\n",
    "tf virtualenv安装，GPU版环境配置：安装显卡驱动 cuda cudnn安装 再vir安tf\n",
    "云端：规格统一，节省自己的机器；有直接配置好环境的镜像，根据镜像搞一个实例；Google Cloud送300刀\n",
    "云配置：从0配置，从镜像配置\n",
    "pip是一个工具，在universe\n",
    "virtualenv是在机器上搭建独立py环境的机制，用命令行轻松搭建环境\n",
    "独立文件夹放置py环境\n",
    "防火墙允许http和https\n",
    "Token是url后面部分\n",
    "source tf2_py3/bin/activate这个是激活\n",
    "可以安两个tf版本tf_py3,tf2_py3\n",
    "pip install tensorflow==2.0.0-alpha0\n",
    "SSH连接\n",
    "ubuntu18.04\n",
    "GPU版本，先配置gpu环境再配置tf\n",
    "nvidia-smi是可以看gpu状态的\n",
    "1.安装nvidia包的仓库，把这些源都添加上去2安装驱动\n",
    "3安cuda和libcudnn4.TensorRT（一个优化包，针对cuda10里）\n",
    "上面那些命令写在一块 运行 一行行命令走过去\n",
    "inference是模型训练好 部署到一个地方提供服务\n",
    "创独立虚拟环境virtualenv --system-site-packages -p python3 ./tf2_py3\n",
    "激活它source tf2_py3/bin/activate\n",
    "先安装nvidia的driver\n",
    "pip install --upgrade（判断是否升级） tensorflow-gpu==2.0.0-alpha0\n",
    "tf.test.is_gpu_available()看是否能用gpu\n",
    "镜像导出的实例中，tf要升级咋办？系统中安装升级，会覆盖掉；\n",
    "或者virtualenv\n",
    "pip3是py3中安装东西的命令\n",
    "AWS EC2是云中的虚拟服务器\n",
    "所有实例从AMI（系统映像）产生，跟谷歌配置好环境的系统映像一样\n",
    "P系列是加速的 p2.xlarge\n",
    "0.0.0.0/0 全世界所有网络都可以访问，但可以设置密钥\n",
    "要让pem文件不公开可见\n",
    "\n",
    "\n",
    "\n",
    "\n",
    "\n",
    "'''\n",
    "add_op=x.assign(x+y)\n",
    "div_op=y.assign(y/2)\n",
    "\n",
    "with tf.Session() as sess:\n",
    "    sess.run(tf.glo)\n"
   ],
   "metadata": {
    "collapsed": false,
    "pycharm": {
     "name": "#%%\n"
    }
   }
  }
 ],
 "metadata": {
  "language_info": {
   "codemirror_mode": {
    "name": "ipython",
    "version": 2
   },
   "file_extension": ".py",
   "mimetype": "text/x-python",
   "name": "python",
   "nbconvert_exporter": "python",
   "pygments_lexer": "ipython2",
   "version": "2.7.6"
  },
  "kernelspec": {
   "name": "python3",
   "language": "python",
   "display_name": "Python 3"
  },
  "pycharm": {
   "stem_cell": {
    "cell_type": "raw",
    "source": [],
    "metadata": {
     "collapsed": false
    }
   }
  }
 },
 "nbformat": 4,
 "nbformat_minor": 0
}